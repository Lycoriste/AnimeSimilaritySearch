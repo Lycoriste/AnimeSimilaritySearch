{
 "cells": [
  {
   "cell_type": "code",
   "execution_count": 1,
   "metadata": {},
   "outputs": [
    {
     "name": "stderr",
     "output_type": "stream",
     "text": [
      "/Users/borng/Documents/code/DataHacks/.venv/lib/python3.12/site-packages/tqdm/auto.py:21: TqdmWarning: IProgress not found. Please update jupyter and ipywidgets. See https://ipywidgets.readthedocs.io/en/stable/user_install.html\n",
      "  from .autonotebook import tqdm as notebook_tqdm\n"
     ]
    }
   ],
   "source": [
    "import pandas as pd\n",
    "import numpy as np\n",
    "from sentence_transformers import SentenceTransformer"
   ]
  },
  {
   "cell_type": "code",
   "execution_count": 2,
   "metadata": {},
   "outputs": [],
   "source": [
    "# Load the multilingual model\n",
    "model = SentenceTransformer('intfloat/multilingual-e5-large-instruct')"
   ]
  },
  {
   "cell_type": "code",
   "execution_count": 3,
   "metadata": {},
   "outputs": [
    {
     "name": "stdout",
     "output_type": "stream",
     "text": [
      "\n",
      "Similarity scores between 'Naruto' review and other anime reviews:\n",
      "Bleach: 92.60\n",
      "Attack on Titan: 90.72\n",
      "One Piece: 86.78\n"
     ]
    }
   ],
   "source": [
    "# Example DataFrame with anime titles and reviews\n",
    "data = {\n",
    "    'anime_title': ['Naruto', 'One Piece', 'Attack on Titan', 'Bleach'],\n",
    "    'review': [\n",
    "        \"Amazing action sequences and deep character development.\",\n",
    "        \"A fun, adventurous journey with strong friendship themes.\",\n",
    "        \"A dark and intense narrative with impressive visuals.\",\n",
    "        \"Unique world-building and memorable character arcs.\"\n",
    "    ]\n",
    "}\n",
    "df = pd.DataFrame(data)\n",
    "\n",
    "# Pre-encode all anime reviews into embeddings\n",
    "review_texts = df['review'].tolist()\n",
    "review_embeddings = model.encode(review_texts, convert_to_tensor=True, normalize_embeddings=True)\n",
    "\n",
    "# Prompt the user for an anime name\n",
    "user_anime = input(\"Enter an anime name: \")\n",
    "\n",
    "# Check if the anime is in the DataFrame\n",
    "if user_anime not in df['anime_title'].values:\n",
    "    print(f\"Anime '{user_anime}' not found in the dataframe.\")\n",
    "else:\n",
    "    # Get the index and review of the selected anime\n",
    "    selected_index = df.index[df['anime_title'] == user_anime][0]\n",
    "    query_review = df.loc[selected_index, 'review']\n",
    "    \n",
    "    # Encode the selected anime's review\n",
    "    query_embedding = model.encode([query_review], convert_to_tensor=True, normalize_embeddings=True)\n",
    "    \n",
    "    # Compute similarity scores between the selected review and all reviews\n",
    "    scores = (query_embedding @ review_embeddings.T) * 100  # cosine similarity scaled by 100\n",
    "    scores_list = scores.tolist()[0]\n",
    "    \n",
    "    # Prepare similarity results excluding the selected anime itself\n",
    "    similarity_results = []\n",
    "    for idx, score in enumerate(scores_list):\n",
    "        if idx != selected_index:\n",
    "            similarity_results.append((df.loc[idx, 'anime_title'], score))\n",
    "    \n",
    "    # Sort results by similarity score in descending order\n",
    "    similarity_results.sort(key=lambda x: x[1], reverse=True)\n",
    "    \n",
    "    # Display the similarity scores\n",
    "    print(f\"\\nSimilarity scores between '{user_anime}' review and other anime reviews:\")\n",
    "    for title, score in similarity_results:\n",
    "        print(f\"{title}: {score:.2f}\")\n"
   ]
  },
  {
   "cell_type": "code",
   "execution_count": null,
   "metadata": {},
   "outputs": [],
   "source": []
  }
 ],
 "metadata": {
  "kernelspec": {
   "display_name": "Python 3",
   "language": "python",
   "name": "python3"
  },
  "language_info": {
   "codemirror_mode": {
    "name": "ipython",
    "version": 3
   },
   "file_extension": ".py",
   "mimetype": "text/x-python",
   "name": "python",
   "nbconvert_exporter": "python",
   "pygments_lexer": "ipython3",
   "version": "3.12.6"
  }
 },
 "nbformat": 4,
 "nbformat_minor": 2
}
